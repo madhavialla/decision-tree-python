{
  "nbformat": 4,
  "nbformat_minor": 0,
  "metadata": {
    "colab": {
      "name": "leetcode.ipynb",
      "provenance": [],
      "collapsed_sections": [],
      "authorship_tag": "ABX9TyPLyNxd64hVZ+7s/NtH9hLj",
      "include_colab_link": true
    },
    "kernelspec": {
      "name": "python3",
      "display_name": "Python 3"
    },
    "language_info": {
      "name": "python"
    }
  },
  "cells": [
    {
      "cell_type": "markdown",
      "metadata": {
        "id": "view-in-github",
        "colab_type": "text"
      },
      "source": [
        "<a href=\"https://colab.research.google.com/github/madhavialla/decision-tree-python/blob/main/leetcode.ipynb\" target=\"_parent\"><img src=\"https://colab.research.google.com/assets/colab-badge.svg\" alt=\"Open In Colab\"/></a>"
      ]
    },
    {
      "cell_type": "code",
      "execution_count": null,
      "metadata": {
        "id": "jxUAQIpNsNVU"
      },
      "outputs": [],
      "source": [
        "class Solution(object):\n",
        "    def twoSum(self, nums, target):\n",
        "        for i=0 i < len(nums)\n",
        "          for j=0 j < len(nums)\n",
        "            result=  num[i] + num[i+1]\n",
        "          if result = target\n",
        "    return i, j\n",
        "    return "
      ]
    },
    {
      "cell_type": "code",
      "source": [
        "# Definition for singly-linked list.\n",
        "# class ListNode(object):\n",
        "#     def __init__(self, val=0, next=None):\n",
        "#         self.val = val\n",
        "#         self.next = next\n",
        "class Solution(object):\n",
        "    def addTwoNumbers(self, l1, l2):\n",
        "        \"\"\"\n",
        "        :type l1: ListNode\n",
        "        :type l2: ListNode\n",
        "        :rtype: ListNode\n",
        "        \"\"\"\n",
        "class LinkedList:\n",
        "  def__init__(self):\n",
        "    self.head=None\n",
        "\n",
        "if __name__=\"main\" \n",
        "  llist = LinkedList()\n",
        "  llist.head = Node(1)\n",
        "  second=Node(2)\n",
        "  third=Node(3)  \n",
        "\n",
        "  llist.head.next=second;\n",
        "\n",
        "  second.next=third;\n",
        "  \n",
        "  get max length of 11 and l2\n",
        "\n",
        "  for i=0 i<max(len(l1),len(l2))\n",
        "\n",
        "  l3[] = l1.node[i] +l2.node[i]  \n",
        "  we need to check if sum is a 2 digit number\n",
        "  then we need to add to the pass it to the next\n",
        "\n",
        "  \n",
        "\n",
        "        "
      ],
      "metadata": {
        "id": "y2ds5XPOEyjP"
      },
      "execution_count": null,
      "outputs": []
    },
    {
      "cell_type": "code",
      "source": [
        "class Solution(object):\n",
        "    def addTwoNumbers(self, l1, l2):\n",
        "        \"\"\"\n",
        "        :type l1: ListNode\n",
        "        :type l2: ListNode\n",
        "        :rtype: ListNode\n",
        "        \"\"\"\n",
        "        dummyHead =ln(0);\n",
        "        p1=l1 -- pointers to linked lists\n",
        "        p2=l2\n",
        "        current = dummyHead -- dummyead linked list with zero nodes\n",
        "        carry=0\n",
        "        \n",
        "        while (p1!=null or p2!=null)\n",
        "        {\n",
        "            x = (p1!=null)?p1.value:0 // if p1 is on a node then value of x otherwise 0\n",
        "            y = (p2!=null)?p2.value:0\n",
        "            sum = x+y+carry;\n",
        "            carry=math.floor(sum/10);\n",
        "            current.next= new Listnode(sum%10)\n",
        "            current = current.next\n",
        "         \n",
        "         if (p1 != null)\n",
        "         {\n",
        "             p1 =p1.next;\n",
        "         }\n",
        "         if (p2!=null)\n",
        "         {\n",
        "             p2=p2.next;\n",
        "         }\n",
        "        }\n",
        " if (carry > 0)\n",
        "       {\n",
        "           current.next = new Listnode(1)\n",
        "       }\n",
        "       return dummyHead.next"
      ],
      "metadata": {
        "id": "0EpZlZVQoVj_"
      },
      "execution_count": null,
      "outputs": []
    }
  ]
}